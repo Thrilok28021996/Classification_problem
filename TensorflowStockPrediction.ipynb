{
  "nbformat": 4,
  "nbformat_minor": 0,
  "metadata": {
    "colab": {
      "name": "TensorflowStockPrediction.ipynb",
      "provenance": [],
      "collapsed_sections": [],
      "include_colab_link": true
    },
    "kernelspec": {
      "name": "python3",
      "display_name": "Python 3"
    },
    "widgets": {
      "application/vnd.jupyter.widget-state+json": {
        "693f017d776349c29d86264c4c44abe7": {
          "model_module": "@jupyter-widgets/controls",
          "model_name": "DropdownModel",
          "model_module_version": "1.5.0",
          "state": {
            "_options_labels": [
              "Phillips 66-PSX",
              "Phillips 66 Partners LP-PSXP",
              "Abbvie Inc-ABBV",
              "Booz Allen Hamilton Holding Corp-BAH",
              "Air Industries Group-AIRI",
              "Under Armour Inc-UAA",
              "Altria Group Inc-MO",
              "FreightCar America Inc-RAIL",
              "Aspen Technology Inc-AZPN",
              "AMAG Pharmaceuticals Inc-AMAG",
              "Astronics Corp-ATRO",
              "Astronics Corp-ATRO",
              "Forward Pharma A/S-FWP",
              "General American Investors Co Inc-GAM",
              "Acacia Communications Inc-ACIA",
              "Arbor Realty Trust Inc-ABR",
              "Kayne Anderson Energy Infrastructure Fund Inc-KYN",
              "AdvanSix Inc-ASIX",
              "AdvanSix Inc-ASIX",
              "American Axle & Manufacturing Holdings Inc-AXL",
              "Air Transport Services Group Inc-ATSG",
              "Silvercrest Asset Management Group Inc-SAMG",
              "Advanced Disposal Services Inc-ADSW",
              "Telephone and Data Systems Inc-TDS",
              "Aon PLC-AON",
              "Huttig Building Products Inc-HBP",
              "Blue Capital Reinsurance Holdings Ltd-BCRHF",
              "Broadridge Financial Solutions Inc-BR",
              "Kaleido Biosciences Inc-KLDO",
              "Community Bankers Trust Corp-ESXB",
              "Green Brick Partners Inc-GRBK",
              "Pitney Bowes Inc-PBI",
              "Premier Financial Bancorp Inc-PFBI",
              "RBC Bearings Inc-ROLL",
              "bluebird bio Inc-BLUE",
              "Bel Fuse Inc-BELFB",
              "Safe Bulkers Inc-SB",
              "Liberty Broadband Corp-LBRDA",
              "Briggs & Stratton Corp-BGGSQ",
              "Briggs & Stratton Corp-BGGSQ",
              "Newell Brands Inc-NWL",
              "Boise Cascade Co-BCC",
              "Biglari Holdings Inc-BH",
              "First Bancorp-FBP",
              "Briggs & Stratton Corp-BGG",
              "Basic Energy Services Inc-BASX",
              "Protalix Biotherapeutics Inc-PLX",
              "Bel Fuse Inc-BELFA",
              "First Guaranty Bancshares Inc-FGBI",
              "Pacific Mercantile Bancorp-PMBC",
              "ION Geophysical Corp-IO",
              "Macquarie Infrastructure Corp-MIC",
              "CURO Group Holdings Corp-CURO",
              "Piper Sandler Companies-PIPR",
              "Tri-Continental Corp-TY",
              "Exxon Mobil Corp-XOM",
              "Graham Holdings Co-GHC",
              "Lear Corp-LEA",
              "SM Energy Co-SM",
              "Capital Southwest Corp-CSWC",
              "CatchMark Timber Trust Inc-CTT",
              "Charter Communications Inc-CHTR",
              "Dean Foods Co-DFODQ",
              "Goodyear Tire & Rubber Co-GT",
              "KKR & Co Inc-KKR",
              "CompX International Inc-CIX",
              "CSW Industrials Inc-CSWI",
              "Pinnacle West Capital Corp-PNW",
              "Peoples Financial Services Corp-PFIS",
              "Portland General Electric Co-POR",
              "United States Cellular Corp-USM",
              "Weyerhaeuser Co-WY",
              "Colgate-Palmolive Co-CL",
              "Cboe Global Markets Inc-CBOE",
              "Nuveen Credit Strategies Income Fund-JQC",
              "IRadimed Corp-IRMD",
              "IRadimed Corp-IRMD",
              "IPG Photonics Corp-IPGP",
              "Orchid Island Capital Inc-ORC",
              "Chevron Corp-CVX",
              "Middlesex Water Co-MSEX",
              "Community Financial Corp(Maryland)-TCFC",
              "WP Carey Inc-WPC",
              "Stellus Capital Investment Corp-SCM",
              "Cassava Sciences Inc-SAVA",
              "Callaway Golf Co-ELY",
              "Twin Disc Inc-TWIN",
              "Daseke Inc-DSKE",
              "Daseke Inc-DSKE",
              "Public Service Enterprise Group Inc-PEG",
              "nVent Electric PLC-NVT",
              "nVent Electric PLC-NVT",
              "Epizyme Inc-EPZM",
              "FLIR Systems Inc-FLIR",
              "Provident Financial Services Inc-PFS",
              "Nuveen Preferred & Income Securities Fund-JPS",
              "SB Financial Group Inc-SBFG",
              "PQ Group Holdings Inc-PQG",
              "Safety Insurance Group Inc-SAFT",
              "New Senior Investment Group Inc-SNR",
              "Ruth's Hospitality Group Inc-RUTH",
              "Textainer Group Holdings Ltd-TGH",
              "Xenia Hotels & Resorts Inc-XHR",
              "Honeywell International Inc-HON",
              "Universal Logistics Holdings Inc-ULH",
              "L3harris Technologies Inc-LHX",
              "McEwen Mining Inc-MUX",
              "ITT Inc-ITT",
              "Libbey Inc-LBYYQ",
              "Intelsat SA-INTEQ",
              "Infinity Pharmaceuticals Inc-INFI",
              "Ligand Pharmaceuticals Inc-LGND",
              "LyondellBasell Industries NV-LYB",
              "Wisdom Tree Investments Inc-WETF",
              "PNM Resources Inc-PNM",
              "USA Truck Inc-USAK",
              "O2micro International Ltd-OIIM",
              "Office Properties Income Trust-OPI",
              "O2micro International Ltd-OIIM",
              "Protara Therapeutics Inc-TARA",
              "Solaris Oilfield Infrastructure Inc-SOI",
              "MoneyGram International Inc-MGI",
              "MoneyGram International Inc-MGI",
              "vTv Therapeutics Inc-VTVT",
              "Tootsie Roll Industries Inc-TR",
              "Magellan Midstream Partners LP-MMP",
              "Navios Maritime Partners LP-NMM",
              "Shell Midstream Partners LP-SHLX",
              "Texas Pacific Land Trust-TPL",
              "Nexa Resources SA-NEXA"
            ],
            "_view_name": "DropdownView",
            "style": "IPY_MODEL_506e5f5c52fe465c97c806bf852273ba",
            "_dom_classes": [],
            "description": "Select one company",
            "_model_name": "DropdownModel",
            "index": 0,
            "_view_module": "@jupyter-widgets/controls",
            "_model_module_version": "1.5.0",
            "_view_count": null,
            "disabled": false,
            "_view_module_version": "1.5.0",
            "description_tooltip": null,
            "_model_module": "@jupyter-widgets/controls",
            "layout": "IPY_MODEL_36bb554b4d844c9c88e4fb7b3d2d23e9"
          }
        },
        "506e5f5c52fe465c97c806bf852273ba": {
          "model_module": "@jupyter-widgets/controls",
          "model_name": "DescriptionStyleModel",
          "model_module_version": "1.5.0",
          "state": {
            "_view_name": "StyleView",
            "_model_name": "DescriptionStyleModel",
            "description_width": "",
            "_view_module": "@jupyter-widgets/base",
            "_model_module_version": "1.5.0",
            "_view_count": null,
            "_view_module_version": "1.2.0",
            "_model_module": "@jupyter-widgets/controls"
          }
        },
        "36bb554b4d844c9c88e4fb7b3d2d23e9": {
          "model_module": "@jupyter-widgets/base",
          "model_name": "LayoutModel",
          "model_module_version": "1.2.0",
          "state": {
            "_view_name": "LayoutView",
            "grid_template_rows": null,
            "right": null,
            "justify_content": null,
            "_view_module": "@jupyter-widgets/base",
            "overflow": null,
            "_model_module_version": "1.2.0",
            "_view_count": null,
            "flex_flow": null,
            "width": null,
            "min_width": null,
            "border": null,
            "align_items": null,
            "bottom": null,
            "_model_module": "@jupyter-widgets/base",
            "top": null,
            "grid_column": null,
            "overflow_y": null,
            "overflow_x": null,
            "grid_auto_flow": null,
            "grid_area": null,
            "grid_template_columns": null,
            "flex": null,
            "_model_name": "LayoutModel",
            "justify_items": null,
            "grid_row": null,
            "max_height": null,
            "align_content": null,
            "visibility": null,
            "align_self": null,
            "height": null,
            "min_height": null,
            "padding": null,
            "grid_auto_rows": null,
            "grid_gap": null,
            "max_width": null,
            "order": null,
            "_view_module_version": "1.2.0",
            "grid_template_areas": null,
            "object_position": null,
            "object_fit": null,
            "grid_auto_columns": null,
            "margin": null,
            "display": null,
            "left": null
          }
        }
      }
    }
  },
  "cells": [
    {
      "cell_type": "markdown",
      "metadata": {
        "id": "view-in-github",
        "colab_type": "text"
      },
      "source": [
        "<a href=\"https://colab.research.google.com/github/Thrilok28021996/Classification_problem/blob/main/TensorflowStockPrediction.ipynb\" target=\"_parent\"><img src=\"https://colab.research.google.com/assets/colab-badge.svg\" alt=\"Open In Colab\"/></a>"
      ]
    },
    {
      "cell_type": "markdown",
      "metadata": {
        "id": "XCZzva7tiWwL"
      },
      "source": [
        "# Stock Prediction Using Tensorflow (RNN/LSTM)\n",
        "\n",
        "> Indented block\n",
        "\n",
        "\n",
        "- We will get Yahoo online up-to-date stock data for time series data analysis.\n",
        "- The Tensorflow is configured to a specialied Reurrent Neural Network (RNN) called Long Short Term Memory (LSTM).\n",
        "- An RNN is a type of neural network well-suited to time series data. \n",
        "- RNNs process a time series step-by-step, maintaining an internal state summarizing the information they've seen so far.  "
      ]
    },
    {
      "cell_type": "code",
      "metadata": {
        "id": "3qD0-QdHiQ_0",
        "colab": {
          "base_uri": "https://localhost:8080/"
        },
        "outputId": "27f75d9a-0fbf-43f8-c957-234d64e68d6a"
      },
      "source": [
        "# The first time to run the program, you need to install yfinance module and \n",
        "# yahoo_earings_calendar by running the folloiwng command once.\n",
        "# After that, you can comment them out by prefixing a # sign. \n",
        "!pip install yfinance\n",
        "!pip install yahoo_earnings_calendar"
      ],
      "execution_count": null,
      "outputs": [
        {
          "output_type": "stream",
          "text": [
            "Collecting yfinance\n",
            "  Downloading https://files.pythonhosted.org/packages/7a/e8/b9d7104d3a4bf39924799067592d9e59119fcfc900a425a12e80a3123ec8/yfinance-0.1.55.tar.gz\n",
            "Requirement already satisfied: pandas>=0.24 in /usr/local/lib/python3.6/dist-packages (from yfinance) (1.1.3)\n",
            "Requirement already satisfied: numpy>=1.15 in /usr/local/lib/python3.6/dist-packages (from yfinance) (1.18.5)\n",
            "Requirement already satisfied: requests>=2.20 in /usr/local/lib/python3.6/dist-packages (from yfinance) (2.23.0)\n",
            "Requirement already satisfied: multitasking>=0.0.7 in /usr/local/lib/python3.6/dist-packages (from yfinance) (0.0.9)\n",
            "Collecting lxml>=4.5.1\n",
            "\u001b[?25l  Downloading https://files.pythonhosted.org/packages/64/28/0b761b64ecbd63d272ed0e7a6ae6e4402fc37886b59181bfdf274424d693/lxml-4.6.1-cp36-cp36m-manylinux1_x86_64.whl (5.5MB)\n",
            "\u001b[K     |████████████████████████████████| 5.5MB 6.8MB/s \n",
            "\u001b[?25hRequirement already satisfied: pytz>=2017.2 in /usr/local/lib/python3.6/dist-packages (from pandas>=0.24->yfinance) (2018.9)\n",
            "Requirement already satisfied: python-dateutil>=2.7.3 in /usr/local/lib/python3.6/dist-packages (from pandas>=0.24->yfinance) (2.8.1)\n",
            "Requirement already satisfied: certifi>=2017.4.17 in /usr/local/lib/python3.6/dist-packages (from requests>=2.20->yfinance) (2020.6.20)\n",
            "Requirement already satisfied: chardet<4,>=3.0.2 in /usr/local/lib/python3.6/dist-packages (from requests>=2.20->yfinance) (3.0.4)\n",
            "Requirement already satisfied: urllib3!=1.25.0,!=1.25.1,<1.26,>=1.21.1 in /usr/local/lib/python3.6/dist-packages (from requests>=2.20->yfinance) (1.24.3)\n",
            "Requirement already satisfied: idna<3,>=2.5 in /usr/local/lib/python3.6/dist-packages (from requests>=2.20->yfinance) (2.10)\n",
            "Requirement already satisfied: six>=1.5 in /usr/local/lib/python3.6/dist-packages (from python-dateutil>=2.7.3->pandas>=0.24->yfinance) (1.15.0)\n",
            "Building wheels for collected packages: yfinance\n",
            "  Building wheel for yfinance (setup.py) ... \u001b[?25l\u001b[?25hdone\n",
            "  Created wheel for yfinance: filename=yfinance-0.1.55-py2.py3-none-any.whl size=22618 sha256=da96cfeabfe1110eec4a4e7fd2a15abb9d955fed8318fe2b69b0fcfe5e4e1e25\n",
            "  Stored in directory: /root/.cache/pip/wheels/04/98/cc/2702a4242d60bdc14f48b4557c427ded1fe92aedf257d4565c\n",
            "Successfully built yfinance\n",
            "Installing collected packages: lxml, yfinance\n",
            "  Found existing installation: lxml 4.2.6\n",
            "    Uninstalling lxml-4.2.6:\n",
            "      Successfully uninstalled lxml-4.2.6\n",
            "Successfully installed lxml-4.6.1 yfinance-0.1.55\n",
            "Collecting yahoo_earnings_calendar\n",
            "  Downloading https://files.pythonhosted.org/packages/8e/c5/56a980977341b9166284007b2d2f81b6cbdfb643aec71e46994c6d014bf1/yahoo_earnings_calendar-0.6.0-py3-none-any.whl\n",
            "Requirement already satisfied: requests in /usr/local/lib/python3.6/dist-packages (from yahoo_earnings_calendar) (2.23.0)\n",
            "Requirement already satisfied: urllib3!=1.25.0,!=1.25.1,<1.26,>=1.21.1 in /usr/local/lib/python3.6/dist-packages (from requests->yahoo_earnings_calendar) (1.24.3)\n",
            "Requirement already satisfied: chardet<4,>=3.0.2 in /usr/local/lib/python3.6/dist-packages (from requests->yahoo_earnings_calendar) (3.0.4)\n",
            "Requirement already satisfied: certifi>=2017.4.17 in /usr/local/lib/python3.6/dist-packages (from requests->yahoo_earnings_calendar) (2020.6.20)\n",
            "Requirement already satisfied: idna<3,>=2.5 in /usr/local/lib/python3.6/dist-packages (from requests->yahoo_earnings_calendar) (2.10)\n",
            "Installing collected packages: yahoo-earnings-calendar\n",
            "Successfully installed yahoo-earnings-calendar-0.6.0\n"
          ],
          "name": "stdout"
        }
      ]
    },
    {
      "cell_type": "code",
      "metadata": {
        "id": "IMal7IRnnnJC"
      },
      "source": [
        "# Import required library modules\n",
        "import yfinance as yf\n",
        "from yahoo_earnings_calendar import YahooEarningsCalendar\n",
        "import pandas as pd\n",
        "import numpy as np"
      ],
      "execution_count": null,
      "outputs": []
    },
    {
      "cell_type": "code",
      "metadata": {
        "id": "3rQoGmJaFDDP"
      },
      "source": [
        "# Try to get tickers from earnings report\n",
        "# You may enter your prefered stock ticker manually.\n",
        "yec= YahooEarningsCalendar()"
      ],
      "execution_count": null,
      "outputs": []
    },
    {
      "cell_type": "code",
      "metadata": {
        "id": "TbXy7gxmFFQc"
      },
      "source": [
        "from datetime import datetime\n",
        "day1 = datetime.strptime('10/30/2020', '%m/%d/%Y')\n",
        "er = yec.earnings_on(day1)"
      ],
      "execution_count": null,
      "outputs": []
    },
    {
      "cell_type": "code",
      "metadata": {
        "id": "DeACWBZ_Vq6V",
        "colab": {
          "base_uri": "https://localhost:8080/",
          "height": 49,
          "referenced_widgets": [
            "693f017d776349c29d86264c4c44abe7",
            "506e5f5c52fe465c97c806bf852273ba",
            "36bb554b4d844c9c88e4fb7b3d2d23e9"
          ]
        },
        "outputId": "0e8fc5cd-15e5-456a-bc4e-01e5044e0edf"
      },
      "source": [
        "# Use this dropdown widget to select a ticker for retrieving the stock data.\n",
        "from ipywidgets import Dropdown\n",
        "option_list =[]\n",
        "for i in range(len(er)):\n",
        "  option_list.append([er[i]['companyshortname']+'-'+er[i]['ticker'], er[i]['ticker']])\n",
        "dropdown = Dropdown(description = 'Select one company', options = option_list)\n",
        "display(dropdown)\n",
        "ticker = dropdown.value"
      ],
      "execution_count": null,
      "outputs": [
        {
          "output_type": "display_data",
          "data": {
            "application/vnd.jupyter.widget-view+json": {
              "model_id": "693f017d776349c29d86264c4c44abe7",
              "version_minor": 0,
              "version_major": 2
            },
            "text/plain": [
              "Dropdown(description='Select one company', options=(['Phillips 66-PSX', 'PSX'], ['Phillips 66 Partners LP-PSXP…"
            ]
          },
          "metadata": {
            "tags": []
          }
        }
      ]
    },
    {
      "cell_type": "code",
      "metadata": {
        "id": "wVdoGhx7d4KB",
        "colab": {
          "base_uri": "https://localhost:8080/",
          "height": 35
        },
        "outputId": "20ec46e7-89fd-44f7-aa51-aa600f8750bb"
      },
      "source": [
        "# Get the stock data from Yahoo finance.\n",
        "# If your stock sticker is not found in the dropdown menu, just enter it here to replace 'ticker' variable.\n",
        "data = yf.download(ticker,'2019-01-01','2020-05-22')"
      ],
      "execution_count": null,
      "outputs": [
        {
          "output_type": "stream",
          "text": [
            "\r[*********************100%***********************]  1 of 1 completed\n"
          ],
          "name": "stdout"
        }
      ]
    },
    {
      "cell_type": "code",
      "metadata": {
        "id": "V4q_njRtwoe3",
        "colab": {
          "base_uri": "https://localhost:8080/",
          "height": 281
        },
        "outputId": "1a3036c7-8195-49af-83a1-9c9981c0393b"
      },
      "source": [
        "# Take a look at the data\n",
        "data.head"
      ],
      "execution_count": null,
      "outputs": [
        {
          "output_type": "execute_result",
          "data": {
            "text/plain": [
              "<bound method NDFrame.head of                   Open        High  ...   Adj Close    Volume\n",
              "Date                                ...                      \n",
              "2019-01-02  134.130005  137.748993  ...  136.699997  16708400\n",
              "2019-01-03  134.270004  134.869995  ...  130.600006  19531300\n",
              "2019-01-04  134.259995  141.080002  ...  139.750000  22845400\n",
              "2019-01-07  140.550003  144.080002  ...  143.100006  17239000\n",
              "2019-01-08  145.000000  147.550003  ...  146.789993  16487600\n",
              "...                ...         ...  ...         ...       ...\n",
              "2020-05-15  200.699997  204.490005  ...  203.679993  17209500\n",
              "2020-05-18  212.500000  215.470001  ...  215.279999  23646800\n",
              "2020-05-19  216.729996  220.589996  ...  217.199997  21438100\n",
              "2020-05-20  220.000000  221.156998  ...  216.789993  38324100\n",
              "2020-05-21  211.289993  214.580002  ...  212.160004  29850700\n",
              "\n",
              "[350 rows x 6 columns]>"
            ]
          },
          "metadata": {
            "tags": []
          },
          "execution_count": 315
        }
      ]
    },
    {
      "cell_type": "code",
      "metadata": {
        "id": "v-RiC3R8RJ5L",
        "colab": {
          "base_uri": "https://localhost:8080/",
          "height": 35
        },
        "outputId": "27448b57-58b8-4b77-8d36-6ddc18c194f9"
      },
      "source": [
        "# Check the column headings\n",
        "# We will use Adj Close for our training data.\n",
        "data.columns"
      ],
      "execution_count": null,
      "outputs": [
        {
          "output_type": "execute_result",
          "data": {
            "text/plain": [
              "Index(['Open', 'High', 'Low', 'Close', 'Adj Close', 'Volume'], dtype='object')"
            ]
          },
          "metadata": {
            "tags": []
          },
          "execution_count": 316
        }
      ]
    },
    {
      "cell_type": "code",
      "metadata": {
        "id": "LAxfqMZ5T1Y_",
        "colab": {
          "base_uri": "https://localhost:8080/",
          "height": 295
        },
        "outputId": "8258e6f5-da01-4be8-b5e4-db8e6962da27"
      },
      "source": [
        "# Slice out the Adj Close column for our study.\n",
        "# Take a look at the data.\n",
        "y = data['Adj Close']\n",
        "y.index=data.index\n",
        "y.plot()"
      ],
      "execution_count": null,
      "outputs": [
        {
          "output_type": "execute_result",
          "data": {
            "text/plain": [
              "<matplotlib.axes._subplots.AxesSubplot at 0x7f381783e470>"
            ]
          },
          "metadata": {
            "tags": []
          },
          "execution_count": 317
        },
        {
          "output_type": "display_data",
          "data": {
            "image/png": "[encoded data removed]",
            "text/plain": [
              "<Figure size 432x288 with 1 Axes>"
            ]
          },
          "metadata": {
            "tags": [],
            "needs_background": "light"
          }
        }
      ]
    },
    {
      "cell_type": "code",
      "metadata": {
        "id": "E6O0dC9J2hSz"
      },
      "source": [
        "# Convert Pandas series to numpy ndarray for further processing.\n",
        "y = y.values"
      ],
      "execution_count": null,
      "outputs": []
    },
    {
      "cell_type": "code",
      "metadata": {
        "id": "weCcmlry2rGh",
        "colab": {
          "base_uri": "https://localhost:8080/",
          "height": 35
        },
        "outputId": "ca9c8970-dcbd-4a12-cd58-3ec6ea176b8d"
      },
      "source": [
        "# Split data into trainning and testing using 80/20 ratio.\n",
        "training_size = int(y.size * 0.8)\n",
        "print(training_size)"
      ],
      "execution_count": null,
      "outputs": [
        {
          "output_type": "stream",
          "text": [
            "280\n"
          ],
          "name": "stdout"
        }
      ]
    },
    {
      "cell_type": "code",
      "metadata": {
        "id": "Ydnae1zQ2Q4o"
      },
      "source": [
        "# Data normalization using training data's mean and standard deviation.\n",
        "# y is a ndarray now and its dimension is 1.\n",
        "training_mean = y[:training_size].mean()\n",
        "training_std = y[:training_size].std()\n",
        "# standarize the data\n",
        "y = (y-training_mean)/training_std"
      ],
      "execution_count": null,
      "outputs": []
    },
    {
      "cell_type": "code",
      "metadata": {
        "id": "tkg7AcbC4DY5",
        "colab": {
          "base_uri": "https://localhost:8080/",
          "height": 35
        },
        "outputId": "944999a2-5330-4997-cf52-80cdf835b1e4"
      },
      "source": [
        "# Take a look at the training data\n",
        "y[0:5]"
      ],
      "execution_count": null,
      "outputs": [
        {
          "output_type": "execute_result",
          "data": {
            "text/plain": [
              "array([-2.22724237, -2.54482223, -2.06845205, -1.89404286, -1.70193346])"
            ]
          },
          "metadata": {
            "tags": []
          },
          "execution_count": 321
        }
      ]
    },
    {
      "cell_type": "code",
      "metadata": {
        "id": "nZz_bFai5Xr7"
      },
      "source": [
        "# Define a function to prepare data.\n",
        "# The time series data are reorganized to form feature vectors and target values.\n",
        "# For example, let sHistory be 10. A datapoint as a target will have 10 immediately \n",
        "# previous 10 values in the time series for its feature vector. \n",
        "def data_preprocess(dataset, iStart, iEnd, sHistory):\n",
        "  data = []\n",
        "  target = []\n",
        "  # begin with sHistory to have historical data\n",
        "  iStart += sHistory\n",
        "  if iEnd is None:\n",
        "    iEnd = len(dataset)\n",
        "  for i in range(iStart, iEnd):\n",
        "    indices = range(i-sHistory, i)\n",
        "    data.append(np.reshape(dataset[indices], (sHistory, 1)))\n",
        "    target.append(dataset[i])\n",
        "  return np.array(data), np.array(target)"
      ],
      "execution_count": null,
      "outputs": []
    },
    {
      "cell_type": "code",
      "metadata": {
        "id": "aDKHe9sC4uq2"
      },
      "source": [
        "# Let's define number of history data for training and split data into training nd testing datasets.\n",
        "past_history = 10\n",
        "xtrain, ytrain = data_preprocess(y, 0, training_size, past_history)\n",
        "xtest, ytest = data_preprocess(y, training_size, None, past_history)"
      ],
      "execution_count": null,
      "outputs": []
    },
    {
      "cell_type": "code",
      "metadata": {
        "id": "b8xycSYB_P85",
        "colab": {
          "base_uri": "https://localhost:8080/",
          "height": 193
        },
        "outputId": "340e3c83-9a9a-4104-e7a5-73a9bf5f2ab9"
      },
      "source": [
        "# Take a look at data.\n",
        "xtest[0]"
      ],
      "execution_count": null,
      "outputs": [
        {
          "output_type": "execute_result",
          "data": {
            "text/plain": [
              "array([[2.33394009],\n",
              "       [2.12829397],\n",
              "       [2.09028868],\n",
              "       [2.13662414],\n",
              "       [2.22096489],\n",
              "       [2.00750894],\n",
              "       [1.7237693 ],\n",
              "       [1.38900877],\n",
              "       [1.36037432],\n",
              "       [1.52332973]])"
            ]
          },
          "metadata": {
            "tags": []
          },
          "execution_count": 324
        }
      ]
    },
    {
      "cell_type": "code",
      "metadata": {
        "id": "_tWsJx-s_byZ",
        "colab": {
          "base_uri": "https://localhost:8080/",
          "height": 193
        },
        "outputId": "08a656b6-a505-4831-b43f-dbc6506fe921"
      },
      "source": [
        "# Take a look at data.\n",
        "xtest[1]"
      ],
      "execution_count": null,
      "outputs": [
        {
          "output_type": "execute_result",
          "data": {
            "text/plain": [
              "array([[2.12829397],\n",
              "       [2.09028868],\n",
              "       [2.13662414],\n",
              "       [2.22096489],\n",
              "       [2.00750894],\n",
              "       [1.7237693 ],\n",
              "       [1.38900877],\n",
              "       [1.36037432],\n",
              "       [1.52332973],\n",
              "       [1.33017806]])"
            ]
          },
          "metadata": {
            "tags": []
          },
          "execution_count": 325
        }
      ]
    },
    {
      "cell_type": "code",
      "metadata": {
        "id": "9G5e-I-i8Ib_"
      },
      "source": [
        "# It's time to get Tensorflow library in and create an LSTM model.\n",
        "import tensorflow as tf\n",
        "# Setting seed to ensure reproducibility.\n",
        "tf.random.set_seed(8888)\n",
        "model = tf.keras.models.Sequential([\n",
        "  tf.keras.layers.LSTM(8, input_shape=xtrain.shape[-2:]),\n",
        "  tf.keras.layers.Dense(1)\n",
        "])"
      ],
      "execution_count": null,
      "outputs": []
    },
    {
      "cell_type": "code",
      "metadata": {
        "id": "-COMa7fb8MIQ",
        "colab": {
          "base_uri": "https://localhost:8080/",
          "height": 228
        },
        "outputId": "b4942210-396c-4cf3-f2d6-cdca74f1bf62"
      },
      "source": [
        "# Take a look at the model you have just created.\n",
        "model.summary()"
      ],
      "execution_count": null,
      "outputs": [
        {
          "output_type": "stream",
          "text": [
            "Model: \"sequential_4\"\n",
            "_________________________________________________________________\n",
            "Layer (type)                 Output Shape              Param #   \n",
            "=================================================================\n",
            "lstm_4 (LSTM)                (None, 8)                 320       \n",
            "_________________________________________________________________\n",
            "dense_4 (Dense)              (None, 1)                 9         \n",
            "=================================================================\n",
            "Total params: 329\n",
            "Trainable params: 329\n",
            "Non-trainable params: 0\n",
            "_________________________________________________________________\n"
          ],
          "name": "stdout"
        }
      ]
    },
    {
      "cell_type": "code",
      "metadata": {
        "id": "Wimqcyff8PqA"
      },
      "source": [
        "# Before taining, you need to configure the model for training.\n",
        "model.compile(optimizer='Adam',\n",
        "              loss='mse')"
      ],
      "execution_count": null,
      "outputs": []
    },
    {
      "cell_type": "code",
      "metadata": {
        "id": "UwvhnusFCykX"
      },
      "source": [
        "BATCH_SIZE = 16\n",
        "BUFFER_SIZE = 10000\n",
        "\n",
        "p_train = tf.data.Dataset.from_tensor_slices((xtrain, ytrain))\n",
        "p_train = p_train.cache().shuffle(BUFFER_SIZE).batch(BATCH_SIZE).repeat()\n",
        "\n",
        "p_test = tf.data.Dataset.from_tensor_slices((xtest, ytest))\n",
        "p_test = p_test.batch(BATCH_SIZE).repeat()"
      ],
      "execution_count": null,
      "outputs": []
    },
    {
      "cell_type": "code",
      "metadata": {
        "id": "qbO1cJEl8UnH",
        "colab": {
          "base_uri": "https://localhost:8080/",
          "height": 369
        },
        "outputId": "35298738-702e-4a3a-d686-349a5b58f3e3"
      },
      "source": [
        "# For your model to be able to predict something, your need to train your model using training data.\n",
        "history = model.fit(p_train, epochs = 10, steps_per_epoch=200, validation_data=p_test, validation_steps=50)"
      ],
      "execution_count": null,
      "outputs": [
        {
          "output_type": "stream",
          "text": [
            "Epoch 1/10\n",
            "200/200 [==============================] - 1s 7ms/step - loss: 0.2225 - val_loss: 0.2510\n",
            "Epoch 2/10\n",
            "200/200 [==============================] - 1s 5ms/step - loss: 0.0686 - val_loss: 0.1806\n",
            "Epoch 3/10\n",
            "200/200 [==============================] - 1s 5ms/step - loss: 0.0513 - val_loss: 0.1771\n",
            "Epoch 4/10\n",
            "200/200 [==============================] - 1s 5ms/step - loss: 0.0469 - val_loss: 0.1630\n",
            "Epoch 5/10\n",
            "200/200 [==============================] - 1s 5ms/step - loss: 0.0442 - val_loss: 0.1526\n",
            "Epoch 6/10\n",
            "200/200 [==============================] - 1s 5ms/step - loss: 0.0419 - val_loss: 0.1418\n",
            "Epoch 7/10\n",
            "200/200 [==============================] - 1s 5ms/step - loss: 0.0390 - val_loss: 0.1326\n",
            "Epoch 8/10\n",
            "200/200 [==============================] - 1s 5ms/step - loss: 0.0375 - val_loss: 0.1323\n",
            "Epoch 9/10\n",
            "200/200 [==============================] - 1s 5ms/step - loss: 0.0351 - val_loss: 0.1226\n",
            "Epoch 10/10\n",
            "200/200 [==============================] - 1s 5ms/step - loss: 0.0334 - val_loss: 0.1179\n"
          ],
          "name": "stdout"
        }
      ]
    },
    {
      "cell_type": "code",
      "metadata": {
        "id": "CVxfwUO28Y4D",
        "colab": {
          "base_uri": "https://localhost:8080/",
          "height": 203
        },
        "outputId": "297f2504-54ce-44ae-f739-680ea8f4bf1e"
      },
      "source": [
        "# Convert training history to datafram for viewing and graphing.\n",
        "hist = pd.DataFrame(history.history)\n",
        "hist.head()"
      ],
      "execution_count": null,
      "outputs": [
        {
          "output_type": "execute_result",
          "data": {
            "text/html": [
              "<div>\n",
              "<style scoped>\n",
              "    .dataframe tbody tr th:only-of-type {\n",
              "        vertical-align: middle;\n",
              "    }\n",
              "\n",
              "    .dataframe tbody tr th {\n",
              "        vertical-align: top;\n",
              "    }\n",
              "\n",
              "    .dataframe thead th {\n",
              "        text-align: right;\n",
              "    }\n",
              "</style>\n",
              "<table border=\"1\" class=\"dataframe\">\n",
              "  <thead>\n",
              "    <tr style=\"text-align: right;\">\n",
              "      <th></th>\n",
              "      <th>loss</th>\n",
              "      <th>val_loss</th>\n",
              "    </tr>\n",
              "  </thead>\n",
              "  <tbody>\n",
              "    <tr>\n",
              "      <th>0</th>\n",
              "      <td>0.222535</td>\n",
              "      <td>0.251041</td>\n",
              "    </tr>\n",
              "    <tr>\n",
              "      <th>1</th>\n",
              "      <td>0.068625</td>\n",
              "      <td>0.180593</td>\n",
              "    </tr>\n",
              "    <tr>\n",
              "      <th>2</th>\n",
              "      <td>0.051262</td>\n",
              "      <td>0.177073</td>\n",
              "    </tr>\n",
              "    <tr>\n",
              "      <th>3</th>\n",
              "      <td>0.046934</td>\n",
              "      <td>0.163023</td>\n",
              "    </tr>\n",
              "    <tr>\n",
              "      <th>4</th>\n",
              "      <td>0.044240</td>\n",
              "      <td>0.152586</td>\n",
              "    </tr>\n",
              "  </tbody>\n",
              "</table>\n",
              "</div>"
            ],
            "text/plain": [
              "       loss  val_loss\n",
              "0  0.222535  0.251041\n",
              "1  0.068625  0.180593\n",
              "2  0.051262  0.177073\n",
              "3  0.046934  0.163023\n",
              "4  0.044240  0.152586"
            ]
          },
          "metadata": {
            "tags": []
          },
          "execution_count": 331
        }
      ]
    },
    {
      "cell_type": "code",
      "metadata": {
        "id": "oKJqts6j8ex1",
        "colab": {
          "base_uri": "https://localhost:8080/",
          "height": 283
        },
        "outputId": "04cacf98-f345-4684-9a81-bf922183d376"
      },
      "source": [
        "# Training errors with respect to ecochs.\n",
        "# loss: values of the cost function for training data.\n",
        "# val_loss: values of the cost function for cross-validation data.\n",
        "hist.plot()"
      ],
      "execution_count": null,
      "outputs": [
        {
          "output_type": "execute_result",
          "data": {
            "text/plain": [
              "<matplotlib.axes._subplots.AxesSubplot at 0x7f3817693080>"
            ]
          },
          "metadata": {
            "tags": []
          },
          "execution_count": 332
        },
        {
          "output_type": "display_data",
          "data": {
            "image/png": "[encoded data removed]",
            "text/plain": [
              "<Figure size 432x288 with 1 Axes>"
            ]
          },
          "metadata": {
            "tags": [],
            "needs_background": "light"
          }
        }
      ]
    },
    {
      "cell_type": "code",
      "metadata": {
        "id": "WB8PfGlF8tul"
      },
      "source": [
        "# Now, we can predict stock values after model is trained. \n",
        "# We keep the predicted values and target vlaues for graphics later.\n",
        "# You may run on p_train or p_test to check the preformance.\n",
        "predicted_value = []\n",
        "y_orig = []\n",
        "count =0;\n",
        "for x, y in p_train.take(20):\n",
        "  y_orig.append(y[0].numpy())\n",
        "  t_pred= model.predict(x)\n",
        "  predicted_value.append(t_pred[0])"
      ],
      "execution_count": null,
      "outputs": []
    },
    {
      "cell_type": "code",
      "metadata": {
        "id": "WZGHDfDuPHLO",
        "colab": {
          "base_uri": "https://localhost:8080/",
          "height": 283
        },
        "outputId": "3fac434c-6800-45e0-df9a-ef67c3870d6c"
      },
      "source": [
        "# Plot the predicted value and the target values together.\n",
        "y_pred = [predicted_value[i][0] for i in range(len(predicted_value))]\n",
        "result = pd.DataFrame({'predicted':y_pred, 'target':y_orig})\n",
        "result.plot()"
      ],
      "execution_count": null,
      "outputs": [
        {
          "output_type": "execute_result",
          "data": {
            "text/plain": [
              "<matplotlib.axes._subplots.AxesSubplot at 0x7f381d52b780>"
            ]
          },
          "metadata": {
            "tags": []
          },
          "execution_count": 338
        },
        {
          "output_type": "display_data",
          "data": {
            "image/png": "[encoded data removed]",
            "text/plain": [
              "<Figure size 432x288 with 1 Axes>"
            ]
          },
          "metadata": {
            "tags": [],
            "needs_background": "light"
          }
        }
      ]
    },
    {
      "cell_type": "markdown",
      "metadata": {
        "id": "74PyIF0IHW0N"
      },
      "source": [
        "# Thank you for watching. Please subscribe, thumb up, and share!"
      ]
    },
    {
      "cell_type": "markdown",
      "metadata": {
        "id": "xADzDYQwHlmv"
      },
      "source": [
        "# If you like to watch something else, please give a comment. "
      ]
    }
  ]
}